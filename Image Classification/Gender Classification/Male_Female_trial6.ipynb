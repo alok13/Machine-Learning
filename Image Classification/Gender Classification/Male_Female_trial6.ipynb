{
  "nbformat": 4,
  "nbformat_minor": 0,
  "metadata": {
    "colab": {
      "name": "Male_Female.ipynb",
      "provenance": [],
      "collapsed_sections": [],
      "include_colab_link": true
    },
    "kernelspec": {
      "name": "python3",
      "display_name": "Python 3"
    },
    "accelerator": "GPU"
  },
  "cells": [
    {
      "cell_type": "markdown",
      "metadata": {
        "id": "view-in-github",
        "colab_type": "text"
      },
      "source": [
        "<a href=\"https://colab.research.google.com/github/alok13/Machine-Learning/blob/master/Male_Female_trial6.ipynb\" target=\"_parent\"><img src=\"https://colab.research.google.com/assets/colab-badge.svg\" alt=\"Open In Colab\"/></a>"
      ]
    },
    {
      "cell_type": "code",
      "metadata": {
        "id": "JgjBvhLyXoK8",
        "colab_type": "code",
        "colab": {}
      },
      "source": [
        "from __future__ import absolute_import, division, print_function, unicode_literals\n",
        "\n",
        "import os\n",
        "import numpy as np\n",
        "import glob\n",
        "import shutil\n",
        "import matplotlib.pyplot as plt\n"
      ],
      "execution_count": 0,
      "outputs": []
    },
    {
      "cell_type": "code",
      "metadata": {
        "id": "8JmS8shjX0gp",
        "colab_type": "code",
        "outputId": "6c6ad1d1-e23e-48b8-f02f-0f5f2870e271",
        "colab": {
          "base_uri": "https://localhost:8080/",
          "height": 34
        }
      },
      "source": [
        "try:\n",
        "  # Use the %tensorflow_version magic if in colab.\n",
        "  %tensorflow_version 2.x\n",
        "except Exception:\n",
        "  pass\n",
        "\n",
        "import tensorflow as tf"
      ],
      "execution_count": 0,
      "outputs": [
        {
          "output_type": "stream",
          "text": [
            "TensorFlow 2.x selected.\n"
          ],
          "name": "stdout"
        }
      ]
    },
    {
      "cell_type": "code",
      "metadata": {
        "id": "i3g-f5K2X66Z",
        "colab_type": "code",
        "colab": {}
      },
      "source": [
        "from tensorflow.keras.models import Sequential\n",
        "from tensorflow.keras.layers import Dense, Conv2D, Flatten, Dropout, MaxPooling2D,BatchNormalization\n",
        "from tensorflow.keras.preprocessing.image import ImageDataGenerator"
      ],
      "execution_count": 0,
      "outputs": []
    },
    {
      "cell_type": "markdown",
      "metadata": {
        "id": "cOw57CIwpQAq",
        "colab_type": "text"
      },
      "source": [
        "***flow_from_directory*** method from ImageDataGenerator gets its label from Directory structure unlike normal somealgo.fit() where we have to provide the labels.\n",
        "https://medium.com/difference-engine-ai/keras-a-thing-you-should-know-about-keras-if-you-plan-to-train-a-deep-learning-model-on-a-large-fdd63ce66bd2"
      ]
    },
    {
      "cell_type": "code",
      "metadata": {
        "id": "mtlGPTElaWaa",
        "colab_type": "code",
        "outputId": "b15558d8-6c52-4ce2-a68d-3b50bae75b93",
        "colab": {
          "base_uri": "https://localhost:8080/",
          "height": 102
        }
      },
      "source": [
        "! git clone https://github.com/alok13/ML_DataSets.git"
      ],
      "execution_count": 0,
      "outputs": [
        {
          "output_type": "stream",
          "text": [
            "Cloning into 'ML_DataSets'...\n",
            "remote: Enumerating objects: 3308, done.\u001b[K\n",
            "remote: Total 3308 (delta 0), reused 0 (delta 0), pack-reused 3308\u001b[K\n",
            "Receiving objects: 100% (3308/3308), 596.78 MiB | 14.66 MiB/s, done.\n",
            "Checking out files: 100% (3330/3330), done.\n"
          ],
          "name": "stdout"
        }
      ]
    },
    {
      "cell_type": "code",
      "metadata": {
        "id": "YkuRkpmaXhUW",
        "colab_type": "code",
        "outputId": "d7a858ca-8d81-4227-ac04-7ff5770059e1",
        "colab": {
          "base_uri": "https://localhost:8080/",
          "height": 51
        }
      },
      "source": [
        "women=os.listdir(\"ML_DataSets/data/women\")\n",
        "women_len=len(women)\n",
        "print(women_len)\n",
        "men=os.listdir(\"ML_DataSets/data/men\")\n",
        "men_len=len(men)\n",
        "print(men_len)"
      ],
      "execution_count": 0,
      "outputs": [
        {
          "output_type": "stream",
          "text": [
            "1912\n",
            "1418\n"
          ],
          "name": "stdout"
        }
      ]
    },
    {
      "cell_type": "code",
      "metadata": {
        "id": "GIS5v0IKQZAk",
        "colab_type": "code",
        "outputId": "56342505-d377-4909-85a6-a94eaad194f4",
        "colab": {
          "base_uri": "https://localhost:8080/",
          "height": 34
        }
      },
      "source": [
        "train_men_size=int(round(men_len*0.8))\n",
        "train_women_size=int(round(women_len*0.8))\n",
        "print(train_men_size)"
      ],
      "execution_count": 0,
      "outputs": [
        {
          "output_type": "stream",
          "text": [
            "1134\n"
          ],
          "name": "stdout"
        }
      ]
    },
    {
      "cell_type": "code",
      "metadata": {
        "id": "uFwZhaC3cN04",
        "colab_type": "code",
        "outputId": "3ad43c77-6fe0-4d22-96f2-dd73591769b7",
        "colab": {
          "base_uri": "https://localhost:8080/",
          "height": 51
        }
      },
      "source": [
        "classes =[\"men\",\"women\"]\n",
        "for cl in classes:\n",
        "  img_path = os.path.join(\"ML_DataSets/data\", cl)\n",
        "  images = glob.glob(img_path+\"/*\" )\n",
        "  print(\"{}: {} Images\".format(cl, len(images)))"
      ],
      "execution_count": 0,
      "outputs": [
        {
          "output_type": "stream",
          "text": [
            "men: 1418 Images\n",
            "women: 1912 Images\n"
          ],
          "name": "stdout"
        }
      ]
    },
    {
      "cell_type": "code",
      "metadata": {
        "id": "aVeIndf4firJ",
        "colab_type": "code",
        "outputId": "e4e10fa2-4fae-4504-e056-ce810fecc28c",
        "colab": {
          "base_uri": "https://localhost:8080/",
          "height": 51
        }
      },
      "source": [
        "base_dir=\"ML_DataSets/data\"\n",
        "for cl in classes:\n",
        "  img_path = os.path.join(base_dir, cl)\n",
        "  images = glob.glob(img_path + '/*')\n",
        "  print(\"{}: {} Images\".format(cl, len(images)))\n",
        "  num_train = int(round(len(images)*0.8))\n",
        "  train, val = images[:num_train], images[num_train:]\n",
        "\n",
        "  for t in train:\n",
        "    if not os.path.exists(os.path.join(base_dir, 'train', cl)):\n",
        "      os.makedirs(os.path.join(base_dir, 'train', cl))\n",
        "    shutil.move(t, os.path.join(base_dir, 'train', cl))\n",
        "\n",
        "  for v in val:\n",
        "    if not os.path.exists(os.path.join(base_dir, 'val', cl)):\n",
        "      os.makedirs(os.path.join(base_dir, 'val', cl))\n",
        "    shutil.move(v, os.path.join(base_dir, 'val', cl))"
      ],
      "execution_count": 0,
      "outputs": [
        {
          "output_type": "stream",
          "text": [
            "men: 1418 Images\n",
            "women: 1912 Images\n"
          ],
          "name": "stdout"
        }
      ]
    },
    {
      "cell_type": "code",
      "metadata": {
        "id": "xr7guCpZdTWO",
        "colab_type": "code",
        "colab": {}
      },
      "source": [
        "batch_size = 100\n",
        "IMG_SHAPE = 150 \n",
        "train_dir = os.path.join(base_dir, 'train')\n",
        "val_dir = os.path.join(base_dir, 'val')"
      ],
      "execution_count": 0,
      "outputs": []
    },
    {
      "cell_type": "code",
      "metadata": {
        "id": "zIKWzwo6dbL9",
        "colab_type": "code",
        "outputId": "50b2cbb2-6bdd-4114-d4d5-5ab0315c4f41",
        "colab": {
          "base_uri": "https://localhost:8080/",
          "height": 34
        }
      },
      "source": [
        "image_gen_train = ImageDataGenerator(\n",
        "                    rescale=1./255,\n",
        "                    rotation_range=45,\n",
        "                    width_shift_range=.15,\n",
        "                    height_shift_range=.15,\n",
        "                    horizontal_flip=True,\n",
        "                    zoom_range=0.5\n",
        "                    )\n",
        "\n",
        "\n",
        "train_data_gen = image_gen_train.flow_from_directory(\n",
        "                                                batch_size=batch_size,\n",
        "                                                directory=train_dir,\n",
        "                                                shuffle=True,\n",
        "                                                target_size=(IMG_SHAPE,IMG_SHAPE),\n",
        "                                                class_mode='sparse'\n",
        "                                                )"
      ],
      "execution_count": 0,
      "outputs": [
        {
          "output_type": "stream",
          "text": [
            "Found 2645 images belonging to 2 classes.\n"
          ],
          "name": "stdout"
        }
      ]
    },
    {
      "cell_type": "code",
      "metadata": {
        "id": "crpsemkGez6f",
        "colab_type": "code",
        "outputId": "a1fe0268-3679-48c1-c09d-a03836a3edd4",
        "colab": {
          "base_uri": "https://localhost:8080/",
          "height": 34
        }
      },
      "source": [
        "image_gen_val = ImageDataGenerator(rescale=1./255)\n",
        "\n",
        "val_data_gen = image_gen_val.flow_from_directory(batch_size=batch_size,\n",
        "                                                 directory=val_dir,\n",
        "                                                 target_size=(IMG_SHAPE, IMG_SHAPE),\n",
        "                                                 class_mode='sparse')"
      ],
      "execution_count": 0,
      "outputs": [
        {
          "output_type": "stream",
          "text": [
            "Found 664 images belonging to 2 classes.\n"
          ],
          "name": "stdout"
        }
      ]
    },
    {
      "cell_type": "code",
      "metadata": {
        "id": "31Hbj2cYeXHq",
        "colab_type": "code",
        "colab": {}
      },
      "source": [
        "\n",
        "model = Sequential()\n",
        "\n",
        "model.add(Conv2D(16, 3, padding='same', activation='relu', input_shape=(IMG_SHAPE,IMG_SHAPE, 3)))\n",
        "model.add(MaxPooling2D(pool_size=(2, 2)))\n",
        "model.add(Dropout(0.25))\n",
        "\n",
        "model.add(Conv2D(32, 3, padding='same', activation='relu'))\n",
        "model.add(MaxPooling2D(pool_size=(2, 2)))\n",
        "model.add(Dropout(0.25))\n",
        "\n",
        "model.add(Conv2D(64, 3, padding='same', activation='relu'))\n",
        "model.add(MaxPooling2D(pool_size=(2, 2)))\n",
        "model.add(Dropout(0.25))\n",
        "\n",
        "model.add(Conv2D(128, 3, padding='same', activation='relu'))\n",
        "model.add(MaxPooling2D(pool_size=(2, 2)))\n",
        "model.add(Dropout(0.25))\n",
        "\n",
        "\n",
        "model.add(Conv2D(256, 3, padding='same', activation='relu'))\n",
        "model.add(MaxPooling2D(pool_size=(2, 2)))\n",
        "model.add(Dropout(0.25))\n",
        "\n",
        "\n",
        "model.add(Flatten())\n",
        "model.add(Dense(512, activation='relu'))\n",
        "model.add(Dropout(0.25))\n",
        "\n",
        "model.add(Dense(2, activation='softmax'))"
      ],
      "execution_count": 0,
      "outputs": []
    },
    {
      "cell_type": "code",
      "metadata": {
        "id": "wjG7536-egHt",
        "colab_type": "code",
        "colab": {}
      },
      "source": [
        "model.compile(optimizer='adam',\n",
        "              loss='sparse_categorical_crossentropy',\n",
        "              metrics=['accuracy'])"
      ],
      "execution_count": 0,
      "outputs": []
    },
    {
      "cell_type": "code",
      "metadata": {
        "id": "G1fNXE_uKW3O",
        "colab_type": "code",
        "colab": {}
      },
      "source": [
        "from keras.callbacks import ModelCheckpoint\n",
        "filepath=\"weights-improvement-trial_5-{epoch:02d}-{val_accuracy:.2f}.hdf5\"\n",
        "checkpoint = ModelCheckpoint(filepath, monitor='val_accuracy', verbose=1, save_best_only=True, mode='max')\n",
        "callbacks_list = [checkpoint]"
      ],
      "execution_count": 0,
      "outputs": []
    },
    {
      "cell_type": "markdown",
      "metadata": {
        "id": "3d-VNhHORCCN",
        "colab_type": "text"
      },
      "source": [
        "**Trail 1** With 80 epochs it took almost 3 hours to complete training with end accuracy being around 76% . Also in between it reached till 78% too.\n",
        "\n",
        "**Trial 2** : added drop out at each layer. and changed the last unit of Dense layer to 2, since we only have 2 labels.Added callbacks and highest accuracy was 76%.\n",
        "\n",
        "**Trail 3** : Added batch normalisation in each layer. It reached to max accuracy of 75% percent. And the graph shows quite a lot of underfitting.\n",
        "\n",
        "\n",
        "**Trial 4** Kept only 1 layer  and commented rest of it.Till 36 epochs accuracy was only 57%. So stopped it\n",
        "\n",
        "**Trial 5** Changed dropout to  0.25. Accuracy was 73%\n",
        "\n",
        "**Trial 6** Added one more hidden layer. Accuracy as 75%"
      ]
    },
    {
      "cell_type": "code",
      "metadata": {
        "id": "7scBXAEZelXs",
        "colab_type": "code",
        "outputId": "ddc13395-9f10-47be-8011-40d09fa836ce",
        "colab": {
          "base_uri": "https://localhost:8080/",
          "height": 1000
        }
      },
      "source": [
        "epochs = 50\n",
        "\n",
        "history = model.fit_generator(\n",
        "    train_data_gen,\n",
        "    steps_per_epoch=int(np.ceil(train_data_gen.n / float(batch_size))),\n",
        "    epochs=epochs,\n",
        "    validation_data=val_data_gen,\n",
        "    validation_steps=int(np.ceil(val_data_gen.n / float(batch_size))),\n",
        "    callbacks=callbacks_list\n",
        ")"
      ],
      "execution_count": 0,
      "outputs": [
        {
          "output_type": "stream",
          "text": [
            "Epoch 1/50\n",
            "26/27 [===========================>..] - ETA: 1s - loss: 0.8283 - accuracy: 0.5289\n",
            "Epoch 00001: val_accuracy improved from -inf to 0.57380, saving model to weights-improvement-trial_5-01-0.57.hdf5\n",
            "27/27 [==============================] - 63s 2s/step - loss: 0.8231 - accuracy: 0.5301 - val_loss: 0.6902 - val_accuracy: 0.5738\n",
            "Epoch 2/50\n",
            "26/27 [===========================>..] - ETA: 1s - loss: 0.6825 - accuracy: 0.5713\n",
            "Epoch 00002: val_accuracy did not improve from 0.57380\n",
            "27/27 [==============================] - 54s 2s/step - loss: 0.6810 - accuracy: 0.5743 - val_loss: 0.6806 - val_accuracy: 0.5738\n",
            "Epoch 3/50\n",
            "26/27 [===========================>..] - ETA: 1s - loss: 0.6717 - accuracy: 0.5733\n",
            "Epoch 00003: val_accuracy did not improve from 0.57380\n",
            "27/27 [==============================] - 53s 2s/step - loss: 0.6700 - accuracy: 0.5743 - val_loss: 0.6657 - val_accuracy: 0.5738\n",
            "Epoch 4/50\n",
            "26/27 [===========================>..] - ETA: 1s - loss: 0.6617 - accuracy: 0.6043\n",
            "Epoch 00004: val_accuracy improved from 0.57380 to 0.64006, saving model to weights-improvement-trial_5-04-0.64.hdf5\n",
            "27/27 [==============================] - 53s 2s/step - loss: 0.6607 - accuracy: 0.6045 - val_loss: 0.6650 - val_accuracy: 0.6401\n",
            "Epoch 5/50\n",
            "26/27 [===========================>..] - ETA: 1s - loss: 0.6564 - accuracy: 0.6157\n",
            "Epoch 00005: val_accuracy did not improve from 0.64006\n",
            "27/27 [==============================] - 54s 2s/step - loss: 0.6554 - accuracy: 0.6181 - val_loss: 0.6666 - val_accuracy: 0.6039\n",
            "Epoch 6/50\n",
            "26/27 [===========================>..] - ETA: 1s - loss: 0.6478 - accuracy: 0.6334\n",
            "Epoch 00006: val_accuracy did not improve from 0.64006\n",
            "27/27 [==============================] - 54s 2s/step - loss: 0.6500 - accuracy: 0.6336 - val_loss: 0.6491 - val_accuracy: 0.6250\n",
            "Epoch 7/50\n",
            "26/27 [===========================>..] - ETA: 1s - loss: 0.6505 - accuracy: 0.6251\n",
            "Epoch 00007: val_accuracy improved from 0.64006 to 0.66566, saving model to weights-improvement-trial_5-07-0.67.hdf5\n",
            "27/27 [==============================] - 53s 2s/step - loss: 0.6517 - accuracy: 0.6234 - val_loss: 0.6416 - val_accuracy: 0.6657\n",
            "Epoch 8/50\n",
            "26/27 [===========================>..] - ETA: 1s - loss: 0.6451 - accuracy: 0.6259\n",
            "Epoch 00008: val_accuracy did not improve from 0.66566\n",
            "27/27 [==============================] - 54s 2s/step - loss: 0.6462 - accuracy: 0.6212 - val_loss: 0.6483 - val_accuracy: 0.6596\n",
            "Epoch 9/50\n",
            "26/27 [===========================>..] - ETA: 1s - loss: 0.6445 - accuracy: 0.6271\n",
            "Epoch 00009: val_accuracy did not improve from 0.66566\n",
            "27/27 [==============================] - 54s 2s/step - loss: 0.6446 - accuracy: 0.6272 - val_loss: 0.6550 - val_accuracy: 0.6295\n",
            "Epoch 10/50\n",
            "26/27 [===========================>..] - ETA: 1s - loss: 0.6353 - accuracy: 0.6409\n",
            "Epoch 00010: val_accuracy did not improve from 0.66566\n",
            "27/27 [==============================] - 53s 2s/step - loss: 0.6333 - accuracy: 0.6435 - val_loss: 0.6439 - val_accuracy: 0.6401\n",
            "Epoch 11/50\n",
            "26/27 [===========================>..] - ETA: 1s - loss: 0.6339 - accuracy: 0.6452\n",
            "Epoch 00011: val_accuracy did not improve from 0.66566\n",
            "27/27 [==============================] - 53s 2s/step - loss: 0.6333 - accuracy: 0.6484 - val_loss: 0.6458 - val_accuracy: 0.6476\n",
            "Epoch 12/50\n",
            "26/27 [===========================>..] - ETA: 1s - loss: 0.6365 - accuracy: 0.6483\n",
            "Epoch 00012: val_accuracy did not improve from 0.66566\n",
            "27/27 [==============================] - 54s 2s/step - loss: 0.6357 - accuracy: 0.6476 - val_loss: 0.6422 - val_accuracy: 0.6521\n",
            "Epoch 13/50\n",
            "26/27 [===========================>..] - ETA: 1s - loss: 0.6366 - accuracy: 0.6444\n",
            "Epoch 00013: val_accuracy did not improve from 0.66566\n",
            "27/27 [==============================] - 52s 2s/step - loss: 0.6367 - accuracy: 0.6439 - val_loss: 0.6432 - val_accuracy: 0.6551\n",
            "Epoch 14/50\n",
            "26/27 [===========================>..] - ETA: 1s - loss: 0.6239 - accuracy: 0.6593\n",
            "Epoch 00014: val_accuracy improved from 0.66566 to 0.66867, saving model to weights-improvement-trial_5-14-0.67.hdf5\n",
            "27/27 [==============================] - 53s 2s/step - loss: 0.6240 - accuracy: 0.6597 - val_loss: 0.6274 - val_accuracy: 0.6687\n",
            "Epoch 15/50\n",
            "26/27 [===========================>..] - ETA: 1s - loss: 0.6241 - accuracy: 0.6676\n",
            "Epoch 00015: val_accuracy improved from 0.66867 to 0.67018, saving model to weights-improvement-trial_5-15-0.67.hdf5\n",
            "27/27 [==============================] - 53s 2s/step - loss: 0.6226 - accuracy: 0.6681 - val_loss: 0.6196 - val_accuracy: 0.6702\n",
            "Epoch 16/50\n",
            "26/27 [===========================>..] - ETA: 1s - loss: 0.6177 - accuracy: 0.6676\n",
            "Epoch 00016: val_accuracy improved from 0.67018 to 0.68072, saving model to weights-improvement-trial_5-16-0.68.hdf5\n",
            "27/27 [==============================] - 53s 2s/step - loss: 0.6162 - accuracy: 0.6688 - val_loss: 0.6145 - val_accuracy: 0.6807\n",
            "Epoch 17/50\n",
            "26/27 [===========================>..] - ETA: 1s - loss: 0.6281 - accuracy: 0.6511\n",
            "Epoch 00017: val_accuracy did not improve from 0.68072\n",
            "27/27 [==============================] - 53s 2s/step - loss: 0.6309 - accuracy: 0.6480 - val_loss: 0.6351 - val_accuracy: 0.6446\n",
            "Epoch 18/50\n",
            "26/27 [===========================>..] - ETA: 1s - loss: 0.6231 - accuracy: 0.6491\n",
            "Epoch 00018: val_accuracy did not improve from 0.68072\n",
            "27/27 [==============================] - 53s 2s/step - loss: 0.6250 - accuracy: 0.6488 - val_loss: 0.6314 - val_accuracy: 0.6596\n",
            "Epoch 19/50\n",
            "26/27 [===========================>..] - ETA: 1s - loss: 0.6137 - accuracy: 0.6695\n",
            "Epoch 00019: val_accuracy did not improve from 0.68072\n",
            "27/27 [==============================] - 53s 2s/step - loss: 0.6147 - accuracy: 0.6684 - val_loss: 0.6276 - val_accuracy: 0.6672\n",
            "Epoch 20/50\n",
            "26/27 [===========================>..] - ETA: 1s - loss: 0.6265 - accuracy: 0.6491\n",
            "Epoch 00020: val_accuracy did not improve from 0.68072\n",
            "27/27 [==============================] - 53s 2s/step - loss: 0.6265 - accuracy: 0.6495 - val_loss: 0.6421 - val_accuracy: 0.6476\n",
            "Epoch 21/50\n",
            "26/27 [===========================>..] - ETA: 1s - loss: 0.6217 - accuracy: 0.6558\n",
            "Epoch 00021: val_accuracy improved from 0.68072 to 0.68373, saving model to weights-improvement-trial_5-21-0.68.hdf5\n",
            "27/27 [==============================] - 53s 2s/step - loss: 0.6213 - accuracy: 0.6548 - val_loss: 0.6187 - val_accuracy: 0.6837\n",
            "Epoch 22/50\n",
            "26/27 [===========================>..] - ETA: 1s - loss: 0.6146 - accuracy: 0.6592\n",
            "Epoch 00022: val_accuracy improved from 0.68373 to 0.69127, saving model to weights-improvement-trial_5-22-0.69.hdf5\n",
            "27/27 [==============================] - 53s 2s/step - loss: 0.6158 - accuracy: 0.6597 - val_loss: 0.6146 - val_accuracy: 0.6913\n",
            "Epoch 23/50\n",
            "26/27 [===========================>..] - ETA: 1s - loss: 0.6112 - accuracy: 0.6750\n",
            "Epoch 00023: val_accuracy did not improve from 0.69127\n",
            "27/27 [==============================] - 54s 2s/step - loss: 0.6093 - accuracy: 0.6764 - val_loss: 0.6108 - val_accuracy: 0.6777\n",
            "Epoch 24/50\n",
            "26/27 [===========================>..] - ETA: 1s - loss: 0.6120 - accuracy: 0.6688\n",
            "Epoch 00024: val_accuracy did not improve from 0.69127\n",
            "27/27 [==============================] - 54s 2s/step - loss: 0.6111 - accuracy: 0.6699 - val_loss: 0.6085 - val_accuracy: 0.6883\n",
            "Epoch 25/50\n",
            "26/27 [===========================>..] - ETA: 1s - loss: 0.6152 - accuracy: 0.6609\n",
            "Epoch 00025: val_accuracy did not improve from 0.69127\n",
            "27/27 [==============================] - 53s 2s/step - loss: 0.6149 - accuracy: 0.6601 - val_loss: 0.6289 - val_accuracy: 0.6581\n",
            "Epoch 26/50\n",
            "26/27 [===========================>..] - ETA: 1s - loss: 0.6097 - accuracy: 0.6660\n",
            "Epoch 00026: val_accuracy did not improve from 0.69127\n",
            "27/27 [==============================] - 53s 2s/step - loss: 0.6082 - accuracy: 0.6673 - val_loss: 0.5949 - val_accuracy: 0.6687\n",
            "Epoch 27/50\n",
            "26/27 [===========================>..] - ETA: 1s - loss: 0.6118 - accuracy: 0.6601\n",
            "Epoch 00027: val_accuracy did not improve from 0.69127\n",
            "27/27 [==============================] - 53s 2s/step - loss: 0.6123 - accuracy: 0.6594 - val_loss: 0.5843 - val_accuracy: 0.6837\n",
            "Epoch 28/50\n",
            "26/27 [===========================>..] - ETA: 1s - loss: 0.5898 - accuracy: 0.6912\n",
            "Epoch 00028: val_accuracy improved from 0.69127 to 0.71235, saving model to weights-improvement-trial_5-28-0.71.hdf5\n",
            "27/27 [==============================] - 54s 2s/step - loss: 0.5900 - accuracy: 0.6900 - val_loss: 0.5600 - val_accuracy: 0.7123\n",
            "Epoch 29/50\n",
            "26/27 [===========================>..] - ETA: 1s - loss: 0.6029 - accuracy: 0.6806\n",
            "Epoch 00029: val_accuracy did not improve from 0.71235\n",
            "27/27 [==============================] - 54s 2s/step - loss: 0.6034 - accuracy: 0.6783 - val_loss: 0.5885 - val_accuracy: 0.6867\n",
            "Epoch 30/50\n",
            "26/27 [===========================>..] - ETA: 1s - loss: 0.5885 - accuracy: 0.6821\n",
            "Epoch 00030: val_accuracy did not improve from 0.71235\n",
            "27/27 [==============================] - 53s 2s/step - loss: 0.5870 - accuracy: 0.6832 - val_loss: 0.5698 - val_accuracy: 0.7078\n",
            "Epoch 31/50\n",
            "26/27 [===========================>..] - ETA: 1s - loss: 0.5800 - accuracy: 0.6837\n",
            "Epoch 00031: val_accuracy did not improve from 0.71235\n",
            "27/27 [==============================] - 54s 2s/step - loss: 0.5806 - accuracy: 0.6832 - val_loss: 0.5683 - val_accuracy: 0.7063\n",
            "Epoch 32/50\n",
            "26/27 [===========================>..] - ETA: 1s - loss: 0.5707 - accuracy: 0.7092\n",
            "Epoch 00032: val_accuracy did not improve from 0.71235\n",
            "27/27 [==============================] - 53s 2s/step - loss: 0.5703 - accuracy: 0.7096 - val_loss: 0.5770 - val_accuracy: 0.6913\n",
            "Epoch 33/50\n",
            "26/27 [===========================>..] - ETA: 1s - loss: 0.5740 - accuracy: 0.6939\n",
            "Epoch 00033: val_accuracy improved from 0.71235 to 0.72590, saving model to weights-improvement-trial_5-33-0.73.hdf5\n",
            "27/27 [==============================] - 53s 2s/step - loss: 0.5747 - accuracy: 0.6911 - val_loss: 0.5439 - val_accuracy: 0.7259\n",
            "Epoch 34/50\n",
            "26/27 [===========================>..] - ETA: 1s - loss: 0.5646 - accuracy: 0.7038\n",
            "Epoch 00034: val_accuracy did not improve from 0.72590\n",
            "27/27 [==============================] - 53s 2s/step - loss: 0.5654 - accuracy: 0.7040 - val_loss: 0.5509 - val_accuracy: 0.7214\n",
            "Epoch 35/50\n",
            "26/27 [===========================>..] - ETA: 1s - loss: 0.5666 - accuracy: 0.7022\n",
            "Epoch 00035: val_accuracy did not improve from 0.72590\n",
            "27/27 [==============================] - 53s 2s/step - loss: 0.5681 - accuracy: 0.7009 - val_loss: 0.6154 - val_accuracy: 0.6611\n",
            "Epoch 36/50\n",
            "26/27 [===========================>..] - ETA: 1s - loss: 0.5686 - accuracy: 0.6994\n",
            "Epoch 00036: val_accuracy improved from 0.72590 to 0.72741, saving model to weights-improvement-trial_5-36-0.73.hdf5\n",
            "27/27 [==============================] - 53s 2s/step - loss: 0.5680 - accuracy: 0.7009 - val_loss: 0.5533 - val_accuracy: 0.7274\n",
            "Epoch 37/50\n",
            "26/27 [===========================>..] - ETA: 1s - loss: 0.5529 - accuracy: 0.7183\n",
            "Epoch 00037: val_accuracy improved from 0.72741 to 0.73193, saving model to weights-improvement-trial_5-37-0.73.hdf5\n",
            "27/27 [==============================] - 53s 2s/step - loss: 0.5519 - accuracy: 0.7191 - val_loss: 0.5511 - val_accuracy: 0.7319\n",
            "Epoch 38/50\n",
            "26/27 [===========================>..] - ETA: 1s - loss: 0.5612 - accuracy: 0.7183\n",
            "Epoch 00038: val_accuracy improved from 0.73193 to 0.74548, saving model to weights-improvement-trial_5-38-0.75.hdf5\n",
            "27/27 [==============================] - 54s 2s/step - loss: 0.5612 - accuracy: 0.7172 - val_loss: 0.5302 - val_accuracy: 0.7455\n",
            "Epoch 39/50\n",
            "26/27 [===========================>..] - ETA: 1s - loss: 0.5542 - accuracy: 0.7116\n",
            "Epoch 00039: val_accuracy did not improve from 0.74548\n",
            "27/27 [==============================] - 53s 2s/step - loss: 0.5549 - accuracy: 0.7104 - val_loss: 0.5542 - val_accuracy: 0.7229\n",
            "Epoch 40/50\n",
            "26/27 [===========================>..] - ETA: 1s - loss: 0.5482 - accuracy: 0.7143\n",
            "Epoch 00040: val_accuracy did not improve from 0.74548\n",
            "27/27 [==============================] - 53s 2s/step - loss: 0.5480 - accuracy: 0.7146 - val_loss: 0.5612 - val_accuracy: 0.6958\n",
            "Epoch 41/50\n",
            "26/27 [===========================>..] - ETA: 1s - loss: 0.5449 - accuracy: 0.7316\n",
            "Epoch 00041: val_accuracy did not improve from 0.74548\n",
            "27/27 [==============================] - 53s 2s/step - loss: 0.5433 - accuracy: 0.7319 - val_loss: 0.5482 - val_accuracy: 0.7154\n",
            "Epoch 42/50\n",
            "26/27 [===========================>..] - ETA: 1s - loss: 0.5572 - accuracy: 0.6990\n",
            "Epoch 00042: val_accuracy did not improve from 0.74548\n",
            "27/27 [==============================] - 53s 2s/step - loss: 0.5549 - accuracy: 0.7021 - val_loss: 0.5169 - val_accuracy: 0.7380\n",
            "Epoch 43/50\n",
            "26/27 [===========================>..] - ETA: 1s - loss: 0.5391 - accuracy: 0.7226\n",
            "Epoch 00043: val_accuracy did not improve from 0.74548\n",
            "27/27 [==============================] - 53s 2s/step - loss: 0.5407 - accuracy: 0.7221 - val_loss: 0.5780 - val_accuracy: 0.6852\n",
            "Epoch 44/50\n",
            "26/27 [===========================>..] - ETA: 1s - loss: 0.5390 - accuracy: 0.7281\n",
            "Epoch 00044: val_accuracy did not improve from 0.74548\n",
            "27/27 [==============================] - 53s 2s/step - loss: 0.5411 - accuracy: 0.7270 - val_loss: 0.5449 - val_accuracy: 0.7063\n",
            "Epoch 45/50\n",
            "26/27 [===========================>..] - ETA: 1s - loss: 0.5411 - accuracy: 0.7352\n",
            "Epoch 00045: val_accuracy did not improve from 0.74548\n",
            "27/27 [==============================] - 53s 2s/step - loss: 0.5429 - accuracy: 0.7338 - val_loss: 0.5012 - val_accuracy: 0.7425\n",
            "Epoch 46/50\n",
            "26/27 [===========================>..] - ETA: 1s - loss: 0.5461 - accuracy: 0.7183\n",
            "Epoch 00046: val_accuracy did not improve from 0.74548\n",
            "27/27 [==============================] - 53s 2s/step - loss: 0.5464 - accuracy: 0.7183 - val_loss: 0.4939 - val_accuracy: 0.7364\n",
            "Epoch 47/50\n",
            "26/27 [===========================>..] - ETA: 1s - loss: 0.5306 - accuracy: 0.7320\n",
            "Epoch 00047: val_accuracy improved from 0.74548 to 0.75000, saving model to weights-improvement-trial_5-47-0.75.hdf5\n",
            "27/27 [==============================] - 53s 2s/step - loss: 0.5312 - accuracy: 0.7316 - val_loss: 0.4909 - val_accuracy: 0.7500\n",
            "Epoch 48/50\n",
            "26/27 [===========================>..] - ETA: 1s - loss: 0.5319 - accuracy: 0.7332\n",
            "Epoch 00048: val_accuracy did not improve from 0.75000\n",
            "27/27 [==============================] - 54s 2s/step - loss: 0.5317 - accuracy: 0.7331 - val_loss: 0.5225 - val_accuracy: 0.7319\n",
            "Epoch 49/50\n",
            "26/27 [===========================>..] - ETA: 1s - loss: 0.5257 - accuracy: 0.7375\n",
            "Epoch 00049: val_accuracy did not improve from 0.75000\n",
            "27/27 [==============================] - 54s 2s/step - loss: 0.5265 - accuracy: 0.7369 - val_loss: 0.5048 - val_accuracy: 0.7395\n",
            "Epoch 50/50\n",
            "26/27 [===========================>..] - ETA: 1s - loss: 0.5259 - accuracy: 0.7363\n",
            "Epoch 00050: val_accuracy did not improve from 0.75000\n",
            "27/27 [==============================] - 54s 2s/step - loss: 0.5254 - accuracy: 0.7365 - val_loss: 0.5209 - val_accuracy: 0.7334\n"
          ],
          "name": "stdout"
        }
      ]
    },
    {
      "cell_type": "code",
      "metadata": {
        "id": "AG6v8XdUIxil",
        "colab_type": "code",
        "outputId": "4639476a-211d-4385-eb70-7cac7ed645fb",
        "colab": {
          "base_uri": "https://localhost:8080/",
          "height": 499
        }
      },
      "source": [
        "acc = history.history['accuracy']\n",
        "val_acc = history.history['val_accuracy']\n",
        "\n",
        "loss = history.history['loss']\n",
        "val_loss = history.history['val_loss']\n",
        "\n",
        "epochs_range = range(epochs)\n",
        "\n",
        "plt.figure(figsize=(8, 8))\n",
        "plt.subplot(1, 2, 1)\n",
        "plt.plot(epochs_range, acc, label='Training Accuracy')\n",
        "plt.plot(epochs_range, val_acc, label='Validation Accuracy')\n",
        "plt.legend(loc='lower right')\n",
        "plt.title('Training and Validation Accuracy')\n",
        "\n",
        "plt.subplot(1, 2, 2)\n",
        "plt.plot(epochs_range, loss, label='Training Loss')\n",
        "plt.plot(epochs_range, val_loss, label='Validation Loss')\n",
        "plt.legend(loc='upper right')\n",
        "plt.title('Training and Validation Loss')\n",
        "plt.show()"
      ],
      "execution_count": 0,
      "outputs": [
        {
          "output_type": "display_data",
          "data": {
            "image/png": "[encoded data removed]",
            "text/plain": [
              "<Figure size 576x576 with 2 Axes>"
            ]
          },
          "metadata": {
            "tags": []
          }
        }
      ]
    }
  ]
}