{
  "nbformat": 4,
  "nbformat_minor": 0,
  "metadata": {
    "colab": {
      "name": "Male_Female.ipynb",
      "provenance": [],
      "collapsed_sections": [],
      "include_colab_link": true
    },
    "kernelspec": {
      "name": "python3",
      "display_name": "Python 3"
    },
    "accelerator": "GPU"
  },
  "cells": [
    {
      "cell_type": "markdown",
      "metadata": {
        "id": "view-in-github",
        "colab_type": "text"
      },
      "source": [
        "<a href=\"https://colab.research.google.com/github/alok13/Machine-Learning/blob/master/Male_Female.ipynb\" target=\"_parent\"><img src=\"https://colab.research.google.com/assets/colab-badge.svg\" alt=\"Open In Colab\"/></a>"
      ]
    },
    {
      "cell_type": "code",
      "metadata": {
        "id": "JgjBvhLyXoK8",
        "colab_type": "code",
        "colab": {}
      },
      "source": [
        "from __future__ import absolute_import, division, print_function, unicode_literals\n",
        "\n",
        "import os\n",
        "import numpy as np\n",
        "import glob\n",
        "import shutil\n",
        "import matplotlib.pyplot as plt\n"
      ],
      "execution_count": 0,
      "outputs": []
    },
    {
      "cell_type": "code",
      "metadata": {
        "id": "8JmS8shjX0gp",
        "colab_type": "code",
        "outputId": "47356718-ae95-43b3-d10b-e90329f612f6",
        "colab": {
          "base_uri": "https://localhost:8080/",
          "height": 34
        }
      },
      "source": [
        "try:\n",
        "  # Use the %tensorflow_version magic if in colab.\n",
        "  %tensorflow_version 2.x\n",
        "except Exception:\n",
        "  pass\n",
        "\n",
        "import tensorflow as tf"
      ],
      "execution_count": 4,
      "outputs": [
        {
          "output_type": "stream",
          "text": [
            "TensorFlow 2.x selected.\n"
          ],
          "name": "stdout"
        }
      ]
    },
    {
      "cell_type": "code",
      "metadata": {
        "id": "i3g-f5K2X66Z",
        "colab_type": "code",
        "colab": {}
      },
      "source": [
        "from tensorflow.keras.models import Sequential\n",
        "from tensorflow.keras.layers import Dense, Conv2D, Flatten, Dropout, MaxPooling2D,BatchNormalization\n",
        "from tensorflow.keras.preprocessing.image import ImageDataGenerator"
      ],
      "execution_count": 0,
      "outputs": []
    },
    {
      "cell_type": "markdown",
      "metadata": {
        "id": "cOw57CIwpQAq",
        "colab_type": "text"
      },
      "source": [
        "***flow_from_directory*** method from ImageDataGenerator gets its label from Directory structure unlike normal somealgo.fit() where we have to provide the labels.\n",
        "https://medium.com/difference-engine-ai/keras-a-thing-you-should-know-about-keras-if-you-plan-to-train-a-deep-learning-model-on-a-large-fdd63ce66bd2"
      ]
    },
    {
      "cell_type": "code",
      "metadata": {
        "id": "mtlGPTElaWaa",
        "colab_type": "code",
        "outputId": "8278cfd5-afab-4d08-eeeb-e4fa7cab8273",
        "colab": {
          "base_uri": "https://localhost:8080/",
          "height": 101
        }
      },
      "source": [
        "! git clone https://github.com/alok13/ML_DataSets.git"
      ],
      "execution_count": 6,
      "outputs": [
        {
          "output_type": "stream",
          "text": [
            "Cloning into 'ML_DataSets'...\n",
            "remote: Enumerating objects: 3308, done.\u001b[K\n",
            "remote: Total 3308 (delta 0), reused 0 (delta 0), pack-reused 3308\u001b[K\n",
            "Receiving objects: 100% (3308/3308), 596.78 MiB | 50.71 MiB/s, done.\n",
            "Checking out files: 100% (3330/3330), done.\n"
          ],
          "name": "stdout"
        }
      ]
    },
    {
      "cell_type": "code",
      "metadata": {
        "id": "YkuRkpmaXhUW",
        "colab_type": "code",
        "outputId": "9a3c852f-626b-4a9a-f667-2c0e0a5ac3c8",
        "colab": {
          "base_uri": "https://localhost:8080/",
          "height": 50
        }
      },
      "source": [
        "women=os.listdir(\"ML_DataSets/data/women\")\n",
        "women_len=len(women)\n",
        "print(women_len)\n",
        "men=os.listdir(\"ML_DataSets/data/men\")\n",
        "men_len=len(men)\n",
        "print(men_len)"
      ],
      "execution_count": 7,
      "outputs": [
        {
          "output_type": "stream",
          "text": [
            "1912\n",
            "1418\n"
          ],
          "name": "stdout"
        }
      ]
    },
    {
      "cell_type": "code",
      "metadata": {
        "id": "GIS5v0IKQZAk",
        "colab_type": "code",
        "outputId": "f52cb797-439a-464a-fd5e-3d5becb588ad",
        "colab": {
          "base_uri": "https://localhost:8080/",
          "height": 34
        }
      },
      "source": [
        "train_men_size=int(round(men_len*0.8))\n",
        "train_women_size=int(round(women_len*0.8))\n",
        "print(train_men_size)"
      ],
      "execution_count": 8,
      "outputs": [
        {
          "output_type": "stream",
          "text": [
            "1134\n"
          ],
          "name": "stdout"
        }
      ]
    },
    {
      "cell_type": "code",
      "metadata": {
        "id": "uFwZhaC3cN04",
        "colab_type": "code",
        "outputId": "1f5f60a4-6e19-47d1-aef7-3730c2dce838",
        "colab": {
          "base_uri": "https://localhost:8080/",
          "height": 50
        }
      },
      "source": [
        "classes =[\"men\",\"women\"]\n",
        "for cl in classes:\n",
        "  img_path = os.path.join(\"ML_DataSets/data\", cl)\n",
        "  images = glob.glob(img_path+\"/*\" )\n",
        "  print(\"{}: {} Images\".format(cl, len(images)))"
      ],
      "execution_count": 10,
      "outputs": [
        {
          "output_type": "stream",
          "text": [
            "men: 1418 Images\n",
            "women: 1912 Images\n"
          ],
          "name": "stdout"
        }
      ]
    },
    {
      "cell_type": "code",
      "metadata": {
        "id": "aVeIndf4firJ",
        "colab_type": "code",
        "outputId": "62438e07-b71f-4699-ba85-324bb8cbd1b1",
        "colab": {
          "base_uri": "https://localhost:8080/",
          "height": 50
        }
      },
      "source": [
        "base_dir=\"ML_DataSets/data\"\n",
        "for cl in classes:\n",
        "  img_path = os.path.join(base_dir, cl)\n",
        "  images = glob.glob(img_path + '/*')\n",
        "  print(\"{}: {} Images\".format(cl, len(images)))\n",
        "  num_train = int(round(len(images)*0.8))\n",
        "  train, val = images[:num_train], images[num_train:]\n",
        "\n",
        "  for t in train:\n",
        "    if not os.path.exists(os.path.join(base_dir, 'train', cl)):\n",
        "      os.makedirs(os.path.join(base_dir, 'train', cl))\n",
        "    shutil.move(t, os.path.join(base_dir, 'train', cl))\n",
        "\n",
        "  for v in val:\n",
        "    if not os.path.exists(os.path.join(base_dir, 'val', cl)):\n",
        "      os.makedirs(os.path.join(base_dir, 'val', cl))\n",
        "    shutil.move(v, os.path.join(base_dir, 'val', cl))"
      ],
      "execution_count": 11,
      "outputs": [
        {
          "output_type": "stream",
          "text": [
            "men: 1418 Images\n",
            "women: 1912 Images\n"
          ],
          "name": "stdout"
        }
      ]
    },
    {
      "cell_type": "code",
      "metadata": {
        "id": "xr7guCpZdTWO",
        "colab_type": "code",
        "colab": {}
      },
      "source": [
        "batch_size = 100\n",
        "IMG_SHAPE = 150 \n",
        "train_dir = os.path.join(base_dir, 'train')\n",
        "val_dir = os.path.join(base_dir, 'val')"
      ],
      "execution_count": 0,
      "outputs": []
    },
    {
      "cell_type": "code",
      "metadata": {
        "id": "zIKWzwo6dbL9",
        "colab_type": "code",
        "outputId": "b538465c-e149-4664-9fa9-6bb8cd04c284",
        "colab": {
          "base_uri": "https://localhost:8080/",
          "height": 34
        }
      },
      "source": [
        "image_gen_train = ImageDataGenerator(\n",
        "                    rescale=1./255,\n",
        "                    rotation_range=45,\n",
        "                    width_shift_range=.15,\n",
        "                    height_shift_range=.15,\n",
        "                    horizontal_flip=True,\n",
        "                    zoom_range=0.5\n",
        "                    )\n",
        "\n",
        "\n",
        "train_data_gen = image_gen_train.flow_from_directory(\n",
        "                                                batch_size=batch_size,\n",
        "                                                directory=train_dir,\n",
        "                                                shuffle=True,\n",
        "                                                target_size=(IMG_SHAPE,IMG_SHAPE),\n",
        "                                                class_mode='sparse'\n",
        "                                                )"
      ],
      "execution_count": 13,
      "outputs": [
        {
          "output_type": "stream",
          "text": [
            "Found 2648 images belonging to 2 classes.\n"
          ],
          "name": "stdout"
        }
      ]
    },
    {
      "cell_type": "code",
      "metadata": {
        "id": "crpsemkGez6f",
        "colab_type": "code",
        "outputId": "5670999a-bb2b-408c-bed3-2bf1aee702db",
        "colab": {
          "base_uri": "https://localhost:8080/",
          "height": 34
        }
      },
      "source": [
        "image_gen_val = ImageDataGenerator(rescale=1./255)\n",
        "\n",
        "val_data_gen = image_gen_val.flow_from_directory(batch_size=batch_size,\n",
        "                                                 directory=val_dir,\n",
        "                                                 target_size=(IMG_SHAPE, IMG_SHAPE),\n",
        "                                                 class_mode='sparse')"
      ],
      "execution_count": 30,
      "outputs": [
        {
          "output_type": "stream",
          "text": [
            "Found 661 images belonging to 2 classes.\n"
          ],
          "name": "stdout"
        }
      ]
    },
    {
      "cell_type": "code",
      "metadata": {
        "id": "31Hbj2cYeXHq",
        "colab_type": "code",
        "colab": {}
      },
      "source": [
        "\n",
        "model = Sequential()\n",
        "\n",
        "model.add(Conv2D(16, 3, padding='same', activation='relu', input_shape=(IMG_SHAPE,IMG_SHAPE, 3)))\n",
        "model.add(BatchNormalization())\n",
        "model.add(MaxPooling2D(pool_size=(2, 2)))\n",
        "model.add(Dropout(0.2))\n",
        "\n",
        "model.add(Conv2D(32, 3, padding='same', activation='relu'))\n",
        "model.add(BatchNormalization())\n",
        "model.add(MaxPooling2D(pool_size=(2, 2)))\n",
        "model.add(Dropout(0.2))\n",
        "\n",
        "model.add(Conv2D(64, 3, padding='same', activation='relu'))\n",
        "model.add(BatchNormalization())\n",
        "model.add(MaxPooling2D(pool_size=(2, 2)))\n",
        "model.add(Dropout(0.2))\n",
        "\n",
        "model.add(Flatten())\n",
        "model.add(Dense(512, activation='relu'))\n",
        "model.add(BatchNormalization())\n",
        "model.add(Dropout(0.5))\n",
        "\n",
        "model.add(Dense(2, activation='softmax'))"
      ],
      "execution_count": 0,
      "outputs": []
    },
    {
      "cell_type": "code",
      "metadata": {
        "id": "wjG7536-egHt",
        "colab_type": "code",
        "colab": {}
      },
      "source": [
        "model.compile(optimizer='adam',\n",
        "              loss='sparse_categorical_crossentropy',\n",
        "              metrics=['accuracy'])"
      ],
      "execution_count": 0,
      "outputs": []
    },
    {
      "cell_type": "code",
      "metadata": {
        "id": "G1fNXE_uKW3O",
        "colab_type": "code",
        "colab": {}
      },
      "source": [
        "from keras.callbacks import ModelCheckpoint\n",
        "filepath=\"weights-improvement-trial_3-{epoch:02d}-{val_accuracy:.2f}.hdf5\"\n",
        "checkpoint = ModelCheckpoint(filepath, monitor='val_accuracy', verbose=1, save_best_only=True, mode='max')\n",
        "callbacks_list = [checkpoint]"
      ],
      "execution_count": 0,
      "outputs": []
    },
    {
      "cell_type": "markdown",
      "metadata": {
        "id": "3d-VNhHORCCN",
        "colab_type": "text"
      },
      "source": [
        "**Trail 1** With 80 epochs it took almost 3 hours to complete training with end accuracy being around 76% . Also in between it reached till 78% too.\n",
        "\n",
        "**Trial 2** : added drop out at each layer. and changed the last unit of Dense layer to 2, since we only have 2 labels.Added callbacks and highest accuracy was 76%.\n",
        "\n",
        "**Trail 3** : Added batch normalisation in each layer. It reached to max accuracy of 75% percent. And the graph shows quite a lot of underfitting."
      ]
    },
    {
      "cell_type": "code",
      "metadata": {
        "id": "7scBXAEZelXs",
        "colab_type": "code",
        "outputId": "fe523208-81bb-4aca-cc13-9915056f12c2",
        "colab": {
          "base_uri": "https://localhost:8080/",
          "height": 1000
        }
      },
      "source": [
        "epochs = 50\n",
        "\n",
        "history = model.fit_generator(\n",
        "    train_data_gen,\n",
        "    steps_per_epoch=int(np.ceil(train_data_gen.n / float(batch_size))),\n",
        "    epochs=epochs,\n",
        "    validation_data=val_data_gen,\n",
        "    validation_steps=int(np.ceil(val_data_gen.n / float(batch_size))),\n",
        "    callbacks=callbacks_list\n",
        ")"
      ],
      "execution_count": 38,
      "outputs": [
        {
          "output_type": "stream",
          "text": [
            "Epoch 1/50\n",
            "26/27 [===========================>..] - ETA: 5s - loss: 1.3055 - accuracy: 0.5691 \n",
            "Epoch 00001: val_accuracy improved from -inf to 0.57640, saving model to weights-improvement-trial_3-01-0.58.hdf5\n",
            "27/27 [==============================] - 174s 6s/step - loss: 1.2982 - accuracy: 0.5661 - val_loss: 1.2059 - val_accuracy: 0.5764\n",
            "Epoch 2/50\n",
            "26/27 [===========================>..] - ETA: 5s - loss: 0.8603 - accuracy: 0.5903 \n",
            "Epoch 00002: val_accuracy did not improve from 0.57640\n",
            "27/27 [==============================] - 163s 6s/step - loss: 0.8640 - accuracy: 0.5861 - val_loss: 2.6887 - val_accuracy: 0.5764\n",
            "Epoch 3/50\n",
            "26/27 [===========================>..] - ETA: 5s - loss: 0.8238 - accuracy: 0.5965 \n",
            "Epoch 00003: val_accuracy did not improve from 0.57640\n",
            "27/27 [==============================] - 161s 6s/step - loss: 0.8177 - accuracy: 0.5989 - val_loss: 4.1001 - val_accuracy: 0.5764\n",
            "Epoch 4/50\n",
            "26/27 [===========================>..] - ETA: 4s - loss: 0.7393 - accuracy: 0.5997\n",
            "Epoch 00004: val_accuracy did not improve from 0.57640\n",
            "27/27 [==============================] - 157s 6s/step - loss: 0.7447 - accuracy: 0.5982 - val_loss: 4.1976 - val_accuracy: 0.5764\n",
            "Epoch 5/50\n",
            "26/27 [===========================>..] - ETA: 4s - loss: 0.7128 - accuracy: 0.6181\n",
            "Epoch 00005: val_accuracy did not improve from 0.57640\n",
            "27/27 [==============================] - 155s 6s/step - loss: 0.7121 - accuracy: 0.6182 - val_loss: 4.2417 - val_accuracy: 0.5764\n",
            "Epoch 6/50\n",
            "26/27 [===========================>..] - ETA: 4s - loss: 0.7027 - accuracy: 0.6228\n",
            "Epoch 00006: val_accuracy did not improve from 0.57640\n",
            "27/27 [==============================] - 153s 6s/step - loss: 0.7010 - accuracy: 0.6239 - val_loss: 4.6160 - val_accuracy: 0.5764\n",
            "Epoch 7/50\n",
            "26/27 [===========================>..] - ETA: 4s - loss: 0.6783 - accuracy: 0.6240\n",
            "Epoch 00007: val_accuracy improved from 0.57640 to 0.58245, saving model to weights-improvement-trial_3-07-0.58.hdf5\n",
            "27/27 [==============================] - 154s 6s/step - loss: 0.6790 - accuracy: 0.6239 - val_loss: 4.1524 - val_accuracy: 0.5825\n",
            "Epoch 8/50\n",
            "26/27 [===========================>..] - ETA: 4s - loss: 0.6628 - accuracy: 0.6432\n",
            "Epoch 00008: val_accuracy did not improve from 0.58245\n",
            "27/27 [==============================] - 153s 6s/step - loss: 0.6657 - accuracy: 0.6405 - val_loss: 6.6869 - val_accuracy: 0.5764\n",
            "Epoch 9/50\n",
            "26/27 [===========================>..] - ETA: 4s - loss: 0.6559 - accuracy: 0.6487\n",
            "Epoch 00009: val_accuracy did not improve from 0.58245\n",
            "27/27 [==============================] - 153s 6s/step - loss: 0.6529 - accuracy: 0.6514 - val_loss: 6.6562 - val_accuracy: 0.5764\n",
            "Epoch 10/50\n",
            "26/27 [===========================>..] - ETA: 4s - loss: 0.6464 - accuracy: 0.6476\n",
            "Epoch 00010: val_accuracy did not improve from 0.58245\n",
            "27/27 [==============================] - 155s 6s/step - loss: 0.6449 - accuracy: 0.6480 - val_loss: 6.5299 - val_accuracy: 0.5764\n",
            "Epoch 11/50\n",
            "26/27 [===========================>..] - ETA: 4s - loss: 0.6274 - accuracy: 0.6480\n",
            "Epoch 00011: val_accuracy did not improve from 0.58245\n",
            "27/27 [==============================] - 158s 6s/step - loss: 0.6265 - accuracy: 0.6495 - val_loss: 6.2971 - val_accuracy: 0.5779\n",
            "Epoch 12/50\n",
            "26/27 [===========================>..] - ETA: 4s - loss: 0.6205 - accuracy: 0.6692 \n",
            "Epoch 00012: val_accuracy improved from 0.58245 to 0.59304, saving model to weights-improvement-trial_3-12-0.59.hdf5\n",
            "27/27 [==============================] - 156s 6s/step - loss: 0.6161 - accuracy: 0.6707 - val_loss: 4.5793 - val_accuracy: 0.5930\n",
            "Epoch 13/50\n",
            "26/27 [===========================>..] - ETA: 4s - loss: 0.6178 - accuracy: 0.6566\n",
            "Epoch 00013: val_accuracy improved from 0.59304 to 0.61573, saving model to weights-improvement-trial_3-13-0.62.hdf5\n",
            "27/27 [==============================] - 159s 6s/step - loss: 0.6150 - accuracy: 0.6582 - val_loss: 2.7968 - val_accuracy: 0.6157\n",
            "Epoch 14/50\n",
            "26/27 [===========================>..] - ETA: 4s - loss: 0.6127 - accuracy: 0.6754\n",
            "Epoch 00014: val_accuracy did not improve from 0.61573\n",
            "27/27 [==============================] - 158s 6s/step - loss: 0.6108 - accuracy: 0.6775 - val_loss: 2.0362 - val_accuracy: 0.6067\n",
            "Epoch 15/50\n",
            "26/27 [===========================>..] - ETA: 4s - loss: 0.6116 - accuracy: 0.6654 \n",
            "Epoch 00015: val_accuracy did not improve from 0.61573\n",
            "27/27 [==============================] - 156s 6s/step - loss: 0.6106 - accuracy: 0.6650 - val_loss: 3.0567 - val_accuracy: 0.6157\n",
            "Epoch 16/50\n",
            "26/27 [===========================>..] - ETA: 4s - loss: 0.6066 - accuracy: 0.6735 \n",
            "Epoch 00016: val_accuracy did not improve from 0.61573\n",
            "27/27 [==============================] - 159s 6s/step - loss: 0.6069 - accuracy: 0.6722 - val_loss: 2.9174 - val_accuracy: 0.5734\n",
            "Epoch 17/50\n",
            "26/27 [===========================>..] - ETA: 4s - loss: 0.5917 - accuracy: 0.6794\n",
            "Epoch 00017: val_accuracy did not improve from 0.61573\n",
            "27/27 [==============================] - 158s 6s/step - loss: 0.5924 - accuracy: 0.6798 - val_loss: 2.5102 - val_accuracy: 0.5840\n",
            "Epoch 18/50\n",
            "26/27 [===========================>..] - ETA: 4s - loss: 0.5975 - accuracy: 0.6923 \n",
            "Epoch 00018: val_accuracy improved from 0.61573 to 0.62330, saving model to weights-improvement-trial_3-18-0.62.hdf5\n",
            "27/27 [==============================] - 160s 6s/step - loss: 0.5999 - accuracy: 0.6896 - val_loss: 1.9996 - val_accuracy: 0.6233\n",
            "Epoch 19/50\n",
            "26/27 [===========================>..] - ETA: 5s - loss: 0.5797 - accuracy: 0.7025 \n",
            "Epoch 00019: val_accuracy did not improve from 0.62330\n",
            "27/27 [==============================] - 161s 6s/step - loss: 0.5808 - accuracy: 0.7028 - val_loss: 1.5190 - val_accuracy: 0.6006\n",
            "Epoch 20/50\n",
            "26/27 [===========================>..] - ETA: 5s - loss: 0.5800 - accuracy: 0.6954 \n",
            "Epoch 00020: val_accuracy improved from 0.62330 to 0.63238, saving model to weights-improvement-trial_3-20-0.63.hdf5\n",
            "27/27 [==============================] - 161s 6s/step - loss: 0.5777 - accuracy: 0.6983 - val_loss: 1.6186 - val_accuracy: 0.6324\n",
            "Epoch 21/50\n",
            "26/27 [===========================>..] - ETA: 5s - loss: 0.5779 - accuracy: 0.6911 \n",
            "Epoch 00021: val_accuracy improved from 0.63238 to 0.63994, saving model to weights-improvement-trial_3-21-0.64.hdf5\n",
            "27/27 [==============================] - 161s 6s/step - loss: 0.5797 - accuracy: 0.6896 - val_loss: 2.0847 - val_accuracy: 0.6399\n",
            "Epoch 22/50\n",
            "26/27 [===========================>..] - ETA: 4s - loss: 0.5776 - accuracy: 0.6947 \n",
            "Epoch 00022: val_accuracy improved from 0.63994 to 0.65204, saving model to weights-improvement-trial_3-22-0.65.hdf5\n",
            "27/27 [==============================] - 162s 6s/step - loss: 0.5766 - accuracy: 0.6960 - val_loss: 0.8518 - val_accuracy: 0.6520\n",
            "Epoch 23/50\n",
            "26/27 [===========================>..] - ETA: 5s - loss: 0.5854 - accuracy: 0.6974 \n",
            "Epoch 00023: val_accuracy improved from 0.65204 to 0.69138, saving model to weights-improvement-trial_3-23-0.69.hdf5\n",
            "27/27 [==============================] - 162s 6s/step - loss: 0.5841 - accuracy: 0.6994 - val_loss: 0.6810 - val_accuracy: 0.6914\n",
            "Epoch 24/50\n",
            "26/27 [===========================>..] - ETA: 4s - loss: 0.5709 - accuracy: 0.7013 \n",
            "Epoch 00024: val_accuracy improved from 0.69138 to 0.69743, saving model to weights-improvement-trial_3-24-0.70.hdf5\n",
            "27/27 [==============================] - 161s 6s/step - loss: 0.5739 - accuracy: 0.6994 - val_loss: 0.7818 - val_accuracy: 0.6974\n",
            "Epoch 25/50\n",
            "26/27 [===========================>..] - ETA: 4s - loss: 0.5631 - accuracy: 0.7115\n",
            "Epoch 00025: val_accuracy improved from 0.69743 to 0.70499, saving model to weights-improvement-trial_3-25-0.70.hdf5\n",
            "27/27 [==============================] - 159s 6s/step - loss: 0.5625 - accuracy: 0.7111 - val_loss: 0.9923 - val_accuracy: 0.7050\n",
            "Epoch 26/50\n",
            "26/27 [===========================>..] - ETA: 4s - loss: 0.5572 - accuracy: 0.7115 \n",
            "Epoch 00026: val_accuracy did not improve from 0.70499\n",
            "27/27 [==============================] - 160s 6s/step - loss: 0.5572 - accuracy: 0.7122 - val_loss: 0.6153 - val_accuracy: 0.6944\n",
            "Epoch 27/50\n",
            "26/27 [===========================>..] - ETA: 4s - loss: 0.5706 - accuracy: 0.7025 \n",
            "Epoch 00027: val_accuracy did not improve from 0.70499\n",
            "27/27 [==============================] - 160s 6s/step - loss: 0.5724 - accuracy: 0.7013 - val_loss: 0.8700 - val_accuracy: 0.6475\n",
            "Epoch 28/50\n",
            "26/27 [===========================>..] - ETA: 4s - loss: 0.5516 - accuracy: 0.7111 \n",
            "Epoch 00028: val_accuracy did not improve from 0.70499\n",
            "27/27 [==============================] - 160s 6s/step - loss: 0.5566 - accuracy: 0.7062 - val_loss: 0.6108 - val_accuracy: 0.6914\n",
            "Epoch 29/50\n",
            "26/27 [===========================>..] - ETA: 5s - loss: 0.5663 - accuracy: 0.7127 \n",
            "Epoch 00029: val_accuracy did not improve from 0.70499\n",
            "27/27 [==============================] - 161s 6s/step - loss: 0.5669 - accuracy: 0.7115 - val_loss: 0.8027 - val_accuracy: 0.6868\n",
            "Epoch 30/50\n",
            "26/27 [===========================>..] - ETA: 5s - loss: 0.5608 - accuracy: 0.7072 \n",
            "Epoch 00030: val_accuracy did not improve from 0.70499\n",
            "27/27 [==============================] - 162s 6s/step - loss: 0.5600 - accuracy: 0.7077 - val_loss: 0.5692 - val_accuracy: 0.6959\n",
            "Epoch 31/50\n",
            "26/27 [===========================>..] - ETA: 4s - loss: 0.5656 - accuracy: 0.7064 \n",
            "Epoch 00031: val_accuracy did not improve from 0.70499\n",
            "27/27 [==============================] - 159s 6s/step - loss: 0.5627 - accuracy: 0.7103 - val_loss: 1.1349 - val_accuracy: 0.6747\n",
            "Epoch 32/50\n",
            "26/27 [===========================>..] - ETA: 4s - loss: 0.5513 - accuracy: 0.7253\n",
            "Epoch 00032: val_accuracy did not improve from 0.70499\n",
            "27/27 [==============================] - 158s 6s/step - loss: 0.5494 - accuracy: 0.7266 - val_loss: 1.1000 - val_accuracy: 0.6566\n",
            "Epoch 33/50\n",
            "26/27 [===========================>..] - ETA: 4s - loss: 0.5401 - accuracy: 0.7272\n",
            "Epoch 00033: val_accuracy did not improve from 0.70499\n",
            "27/27 [==============================] - 158s 6s/step - loss: 0.5386 - accuracy: 0.7266 - val_loss: 0.6930 - val_accuracy: 0.6899\n",
            "Epoch 34/50\n",
            "26/27 [===========================>..] - ETA: 4s - loss: 0.5669 - accuracy: 0.7139 \n",
            "Epoch 00034: val_accuracy did not improve from 0.70499\n",
            "27/27 [==============================] - 159s 6s/step - loss: 0.5655 - accuracy: 0.7134 - val_loss: 1.5195 - val_accuracy: 0.6838\n",
            "Epoch 35/50\n",
            "26/27 [===========================>..] - ETA: 4s - loss: 0.6074 - accuracy: 0.7057 \n",
            "Epoch 00035: val_accuracy did not improve from 0.70499\n",
            "27/27 [==============================] - 160s 6s/step - loss: 0.6098 - accuracy: 0.7039 - val_loss: 0.7575 - val_accuracy: 0.6626\n",
            "Epoch 36/50\n",
            "26/27 [===========================>..] - ETA: 5s - loss: 0.5775 - accuracy: 0.7037 \n",
            "Epoch 00036: val_accuracy did not improve from 0.70499\n",
            "27/27 [==============================] - 161s 6s/step - loss: 0.5780 - accuracy: 0.7035 - val_loss: 0.8442 - val_accuracy: 0.6551\n",
            "Epoch 37/50\n",
            "26/27 [===========================>..] - ETA: 5s - loss: 0.5680 - accuracy: 0.7115 \n",
            "Epoch 00037: val_accuracy did not improve from 0.70499\n",
            "27/27 [==============================] - 161s 6s/step - loss: 0.5681 - accuracy: 0.7119 - val_loss: 0.5929 - val_accuracy: 0.6974\n",
            "Epoch 38/50\n",
            "26/27 [===========================>..] - ETA: 4s - loss: 0.5536 - accuracy: 0.7304\n",
            "Epoch 00038: val_accuracy did not improve from 0.70499\n",
            "27/27 [==============================] - 159s 6s/step - loss: 0.5535 - accuracy: 0.7311 - val_loss: 0.5628 - val_accuracy: 0.6974\n",
            "Epoch 39/50\n",
            "26/27 [===========================>..] - ETA: 4s - loss: 0.5435 - accuracy: 0.7225\n",
            "Epoch 00039: val_accuracy improved from 0.70499 to 0.71407, saving model to weights-improvement-trial_3-39-0.71.hdf5\n",
            "27/27 [==============================] - 159s 6s/step - loss: 0.5477 - accuracy: 0.7175 - val_loss: 0.5808 - val_accuracy: 0.7141\n",
            "Epoch 40/50\n",
            "26/27 [===========================>..] - ETA: 4s - loss: 0.5475 - accuracy: 0.7327 \n",
            "Epoch 00040: val_accuracy improved from 0.71407 to 0.73222, saving model to weights-improvement-trial_3-40-0.73.hdf5\n",
            "27/27 [==============================] - 161s 6s/step - loss: 0.5465 - accuracy: 0.7338 - val_loss: 0.5490 - val_accuracy: 0.7322\n",
            "Epoch 41/50\n",
            "26/27 [===========================>..] - ETA: 4s - loss: 0.5393 - accuracy: 0.7276 \n",
            "Epoch 00041: val_accuracy did not improve from 0.73222\n",
            "27/27 [==============================] - 161s 6s/step - loss: 0.5367 - accuracy: 0.7289 - val_loss: 0.5949 - val_accuracy: 0.6989\n",
            "Epoch 42/50\n",
            "26/27 [===========================>..] - ETA: 5s - loss: 0.5346 - accuracy: 0.7284 \n",
            "Epoch 00042: val_accuracy did not improve from 0.73222\n",
            "27/27 [==============================] - 162s 6s/step - loss: 0.5344 - accuracy: 0.7289 - val_loss: 0.6422 - val_accuracy: 0.6868\n",
            "Epoch 43/50\n",
            "26/27 [===========================>..] - ETA: 5s - loss: 0.5388 - accuracy: 0.7319 \n",
            "Epoch 00043: val_accuracy did not improve from 0.73222\n",
            "27/27 [==============================] - 160s 6s/step - loss: 0.5433 - accuracy: 0.7292 - val_loss: 0.5868 - val_accuracy: 0.7186\n",
            "Epoch 44/50\n",
            "26/27 [===========================>..] - ETA: 4s - loss: 0.5536 - accuracy: 0.7217 \n",
            "Epoch 00044: val_accuracy improved from 0.73222 to 0.75492, saving model to weights-improvement-trial_3-44-0.75.hdf5\n",
            "27/27 [==============================] - 160s 6s/step - loss: 0.5533 - accuracy: 0.7217 - val_loss: 0.6080 - val_accuracy: 0.7549\n",
            "Epoch 45/50\n",
            "26/27 [===========================>..] - ETA: 4s - loss: 0.5512 - accuracy: 0.7296\n",
            "Epoch 00045: val_accuracy did not improve from 0.75492\n",
            "27/27 [==============================] - 156s 6s/step - loss: 0.5525 - accuracy: 0.7273 - val_loss: 0.6231 - val_accuracy: 0.7262\n",
            "Epoch 46/50\n",
            "26/27 [===========================>..] - ETA: 4s - loss: 0.5356 - accuracy: 0.7268\n",
            "Epoch 00046: val_accuracy did not improve from 0.75492\n",
            "27/27 [==============================] - 157s 6s/step - loss: 0.5366 - accuracy: 0.7270 - val_loss: 0.5533 - val_accuracy: 0.7216\n",
            "Epoch 47/50\n",
            "26/27 [===========================>..] - ETA: 4s - loss: 0.5315 - accuracy: 0.7382\n",
            "Epoch 00047: val_accuracy did not improve from 0.75492\n",
            "27/27 [==============================] - 159s 6s/step - loss: 0.5343 - accuracy: 0.7353 - val_loss: 0.5573 - val_accuracy: 0.7262\n",
            "Epoch 48/50\n",
            "26/27 [===========================>..] - ETA: 5s - loss: 0.5240 - accuracy: 0.7300 \n",
            "Epoch 00048: val_accuracy did not improve from 0.75492\n",
            "27/27 [==============================] - 163s 6s/step - loss: 0.5240 - accuracy: 0.7304 - val_loss: 0.5875 - val_accuracy: 0.6838\n",
            "Epoch 49/50\n",
            "26/27 [===========================>..] - ETA: 5s - loss: 0.5462 - accuracy: 0.7261 \n",
            "Epoch 00049: val_accuracy did not improve from 0.75492\n",
            "27/27 [==============================] - 162s 6s/step - loss: 0.5533 - accuracy: 0.7205 - val_loss: 0.8139 - val_accuracy: 0.6747\n",
            "Epoch 50/50\n",
            "26/27 [===========================>..] - ETA: 5s - loss: 0.5468 - accuracy: 0.7206 \n",
            "Epoch 00050: val_accuracy did not improve from 0.75492\n",
            "27/27 [==============================] - 163s 6s/step - loss: 0.5458 - accuracy: 0.7213 - val_loss: 0.6569 - val_accuracy: 0.6611\n"
          ],
          "name": "stdout"
        }
      ]
    },
    {
      "cell_type": "code",
      "metadata": {
        "id": "AG6v8XdUIxil",
        "colab_type": "code",
        "colab": {
          "base_uri": "https://localhost:8080/",
          "height": 499
        },
        "outputId": "9dddd786-21b8-4c1c-88e1-d2b5c8d3784d"
      },
      "source": [
        "acc = history.history['accuracy']\n",
        "val_acc = history.history['val_accuracy']\n",
        "\n",
        "loss = history.history['loss']\n",
        "val_loss = history.history['val_loss']\n",
        "\n",
        "epochs_range = range(epochs)\n",
        "\n",
        "plt.figure(figsize=(8, 8))\n",
        "plt.subplot(1, 2, 1)\n",
        "plt.plot(epochs_range, acc, label='Training Accuracy')\n",
        "plt.plot(epochs_range, val_acc, label='Validation Accuracy')\n",
        "plt.legend(loc='lower right')\n",
        "plt.title('Training and Validation Accuracy')\n",
        "\n",
        "plt.subplot(1, 2, 2)\n",
        "plt.plot(epochs_range, loss, label='Training Loss')\n",
        "plt.plot(epochs_range, val_loss, label='Validation Loss')\n",
        "plt.legend(loc='upper right')\n",
        "plt.title('Training and Validation Loss')\n",
        "plt.show()"
      ],
      "execution_count": 39,
      "outputs": [
        {
          "output_type": "display_data",
          "data": {
            "image/png": "[encoded data removed]",
            "text/plain": [
              "<Figure size 576x576 with 2 Axes>"
            ]
          },
          "metadata": {
            "tags": []
          }
        }
      ]
    }
  ]
}