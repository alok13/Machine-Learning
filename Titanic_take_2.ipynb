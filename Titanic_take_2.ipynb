{
  "nbformat": 4,
  "nbformat_minor": 0,
  "metadata": {
    "colab": {
      "name": "Titanic_take_2.ipynb",
      "provenance": [],
      "collapsed_sections": [],
      "include_colab_link": true
    },
    "kernelspec": {
      "name": "python3",
      "display_name": "Python 3"
    },
    "accelerator": "GPU"
  },
  "cells": [
    {
      "cell_type": "markdown",
      "metadata": {
        "id": "view-in-github",
        "colab_type": "text"
      },
      "source": [
        "<a href=\"https://colab.research.google.com/github/alok13/Machine-Learning/blob/master/Titanic_take_2.ipynb\" target=\"_parent\"><img src=\"https://colab.research.google.com/assets/colab-badge.svg\" alt=\"Open In Colab\"/></a>"
      ]
    },
    {
      "cell_type": "code",
      "metadata": {
        "id": "D3y1DoFSvGvf",
        "colab_type": "code",
        "colab": {}
      },
      "source": [
        "%tensorflow_version 2.x\n",
        "import pandas as pd\n",
        "import numpy as np"
      ],
      "execution_count": 0,
      "outputs": []
    },
    {
      "cell_type": "code",
      "metadata": {
        "id": "24t8Jqxvv6K0",
        "colab_type": "code",
        "outputId": "7d46fbb2-9738-4501-c089-e8170f568652",
        "colab": {
          "base_uri": "https://localhost:8080/",
          "height": 84
        }
      },
      "source": [
        "import os\n",
        "os.environ['KAGGLE_USERNAME'] = \"alok13\" # username from the json file\n",
        "os.environ['KAGGLE_KEY'] = \"0a84636fc75d4a9f43d87644d220855d\" # key from the json file\n",
        "!kaggle competitions download -c titanic"
      ],
      "execution_count": 60,
      "outputs": [
        {
          "output_type": "stream",
          "text": [
            "Warning: Looks like you're using an outdated API Version, please consider updating (server 1.5.6 / client 1.5.4)\n",
            "test.csv: Skipping, found more recently modified local copy (use --force to force download)\n",
            "gender_submission.csv: Skipping, found more recently modified local copy (use --force to force download)\n",
            "train.csv: Skipping, found more recently modified local copy (use --force to force download)\n"
          ],
          "name": "stdout"
        }
      ]
    },
    {
      "cell_type": "code",
      "metadata": {
        "id": "DbOW58Nyv9OH",
        "colab_type": "code",
        "colab": {}
      },
      "source": [
        "import matplotlib.pyplot as plt"
      ],
      "execution_count": 0,
      "outputs": []
    },
    {
      "cell_type": "code",
      "metadata": {
        "id": "AHw9fz9lwPtF",
        "colab_type": "code",
        "outputId": "dc54002a-94dd-45d1-9b2b-975497849ae3",
        "colab": {
          "base_uri": "https://localhost:8080/",
          "height": 229
        }
      },
      "source": [
        "df=pd.read_csv(\"train.csv\")\n",
        "df.head()"
      ],
      "execution_count": 62,
      "outputs": [
        {
          "output_type": "execute_result",
          "data": {
            "text/html": [
              "<div>\n",
              "<style scoped>\n",
              "    .dataframe tbody tr th:only-of-type {\n",
              "        vertical-align: middle;\n",
              "    }\n",
              "\n",
              "    .dataframe tbody tr th {\n",
              "        vertical-align: top;\n",
              "    }\n",
              "\n",
              "    .dataframe thead th {\n",
              "        text-align: right;\n",
              "    }\n",
              "</style>\n",
              "<table border=\"1\" class=\"dataframe\">\n",
              "  <thead>\n",
              "    <tr style=\"text-align: right;\">\n",
              "      <th></th>\n",
              "      <th>PassengerId</th>\n",
              "      <th>Survived</th>\n",
              "      <th>Pclass</th>\n",
              "      <th>Name</th>\n",
              "      <th>Sex</th>\n",
              "      <th>Age</th>\n",
              "      <th>SibSp</th>\n",
              "      <th>Parch</th>\n",
              "      <th>Ticket</th>\n",
              "      <th>Fare</th>\n",
              "      <th>Cabin</th>\n",
              "      <th>Embarked</th>\n",
              "    </tr>\n",
              "  </thead>\n",
              "  <tbody>\n",
              "    <tr>\n",
              "      <th>0</th>\n",
              "      <td>1</td>\n",
              "      <td>0</td>\n",
              "      <td>3</td>\n",
              "      <td>Braund, Mr. Owen Harris</td>\n",
              "      <td>male</td>\n",
              "      <td>22.0</td>\n",
              "      <td>1</td>\n",
              "      <td>0</td>\n",
              "      <td>A/5 21171</td>\n",
              "      <td>7.2500</td>\n",
              "      <td>NaN</td>\n",
              "      <td>S</td>\n",
              "    </tr>\n",
              "    <tr>\n",
              "      <th>1</th>\n",
              "      <td>2</td>\n",
              "      <td>1</td>\n",
              "      <td>1</td>\n",
              "      <td>Cumings, Mrs. John Bradley (Florence Briggs Th...</td>\n",
              "      <td>female</td>\n",
              "      <td>38.0</td>\n",
              "      <td>1</td>\n",
              "      <td>0</td>\n",
              "      <td>PC 17599</td>\n",
              "      <td>71.2833</td>\n",
              "      <td>C85</td>\n",
              "      <td>C</td>\n",
              "    </tr>\n",
              "    <tr>\n",
              "      <th>2</th>\n",
              "      <td>3</td>\n",
              "      <td>1</td>\n",
              "      <td>3</td>\n",
              "      <td>Heikkinen, Miss. Laina</td>\n",
              "      <td>female</td>\n",
              "      <td>26.0</td>\n",
              "      <td>0</td>\n",
              "      <td>0</td>\n",
              "      <td>STON/O2. 3101282</td>\n",
              "      <td>7.9250</td>\n",
              "      <td>NaN</td>\n",
              "      <td>S</td>\n",
              "    </tr>\n",
              "    <tr>\n",
              "      <th>3</th>\n",
              "      <td>4</td>\n",
              "      <td>1</td>\n",
              "      <td>1</td>\n",
              "      <td>Futrelle, Mrs. Jacques Heath (Lily May Peel)</td>\n",
              "      <td>female</td>\n",
              "      <td>35.0</td>\n",
              "      <td>1</td>\n",
              "      <td>0</td>\n",
              "      <td>113803</td>\n",
              "      <td>53.1000</td>\n",
              "      <td>C123</td>\n",
              "      <td>S</td>\n",
              "    </tr>\n",
              "    <tr>\n",
              "      <th>4</th>\n",
              "      <td>5</td>\n",
              "      <td>0</td>\n",
              "      <td>3</td>\n",
              "      <td>Allen, Mr. William Henry</td>\n",
              "      <td>male</td>\n",
              "      <td>35.0</td>\n",
              "      <td>0</td>\n",
              "      <td>0</td>\n",
              "      <td>373450</td>\n",
              "      <td>8.0500</td>\n",
              "      <td>NaN</td>\n",
              "      <td>S</td>\n",
              "    </tr>\n",
              "  </tbody>\n",
              "</table>\n",
              "</div>"
            ],
            "text/plain": [
              "   PassengerId  Survived  Pclass  ...     Fare Cabin  Embarked\n",
              "0            1         0       3  ...   7.2500   NaN         S\n",
              "1            2         1       1  ...  71.2833   C85         C\n",
              "2            3         1       3  ...   7.9250   NaN         S\n",
              "3            4         1       1  ...  53.1000  C123         S\n",
              "4            5         0       3  ...   8.0500   NaN         S\n",
              "\n",
              "[5 rows x 12 columns]"
            ]
          },
          "metadata": {
            "tags": []
          },
          "execution_count": 62
        }
      ]
    },
    {
      "cell_type": "code",
      "metadata": {
        "id": "Q2w8L5EXwWfd",
        "colab_type": "code",
        "outputId": "8544424e-9de2-413a-bd7b-36a32ff9a7a3",
        "colab": {
          "base_uri": "https://localhost:8080/",
          "height": 298
        }
      },
      "source": [
        "plt.scatter(df.Survived,df.Age, alpha=0.1)\n",
        "plt.title(\"Age wrt Survived\")"
      ],
      "execution_count": 63,
      "outputs": [
        {
          "output_type": "execute_result",
          "data": {
            "text/plain": [
              "Text(0.5, 1.0, 'Age wrt Survived')"
            ]
          },
          "metadata": {
            "tags": []
          },
          "execution_count": 63
        },
        {
          "output_type": "display_data",
          "data": {
            "image/png": "[encoded data removed]",
            "text/plain": [
              "<Figure size 432x288 with 1 Axes>"
            ]
          },
          "metadata": {
            "tags": []
          }
        }
      ]
    },
    {
      "cell_type": "code",
      "metadata": {
        "id": "A0y3alrmwqWE",
        "colab_type": "code",
        "outputId": "d43940dd-9227-49aa-a180-d1e0caba31fb",
        "colab": {
          "base_uri": "https://localhost:8080/",
          "height": 295
        }
      },
      "source": [
        "df.Survived.value_counts(normalize=True).plot(kind=\"bar\",alpha=0.5)\n",
        "plt.title(\"Survived\")"
      ],
      "execution_count": 64,
      "outputs": [
        {
          "output_type": "execute_result",
          "data": {
            "text/plain": [
              "Text(0.5, 1.0, 'Survived')"
            ]
          },
          "metadata": {
            "tags": []
          },
          "execution_count": 64
        },
        {
          "output_type": "display_data",
          "data": {
            "image/png": "[encoded data removed]",
            "text/plain": [
              "<Figure size 432x288 with 1 Axes>"
            ]
          },
          "metadata": {
            "tags": []
          }
        }
      ]
    },
    {
      "cell_type": "code",
      "metadata": {
        "id": "f5LU7aO2xDXI",
        "colab_type": "code",
        "outputId": "c5ca6ba2-cdf9-47cd-c27c-29b6a881ec5f",
        "colab": {
          "base_uri": "https://localhost:8080/",
          "height": 295
        }
      },
      "source": [
        "df.Pclass.value_counts(normalize=True).plot(kind=\"bar\",alpha=0.5)\n",
        "plt.title(\"Class\")"
      ],
      "execution_count": 65,
      "outputs": [
        {
          "output_type": "execute_result",
          "data": {
            "text/plain": [
              "Text(0.5, 1.0, 'Class')"
            ]
          },
          "metadata": {
            "tags": []
          },
          "execution_count": 65
        },
        {
          "output_type": "display_data",
          "data": {
            "image/png": "[encoded data removed]",
            "text/plain": [
              "<Figure size 432x288 with 1 Axes>"
            ]
          },
          "metadata": {
            "tags": []
          }
        }
      ]
    },
    {
      "cell_type": "code",
      "metadata": {
        "id": "QU14iPxXxVd2",
        "colab_type": "code",
        "outputId": "55b0310d-cd9f-4e06-cbe1-cf4ac2f3109e",
        "colab": {
          "base_uri": "https://localhost:8080/",
          "height": 296
        }
      },
      "source": [
        "df.Embarked.value_counts(normalize=True).plot(kind=\"bar\",alpha=0.5)\n",
        "plt.title(\"embarked\")"
      ],
      "execution_count": 66,
      "outputs": [
        {
          "output_type": "execute_result",
          "data": {
            "text/plain": [
              "Text(0.5, 1.0, 'embarked')"
            ]
          },
          "metadata": {
            "tags": []
          },
          "execution_count": 66
        },
        {
          "output_type": "display_data",
          "data": {
            "image/png": "[encoded data removed]",
            "text/plain": [
              "<Figure size 432x288 with 1 Axes>"
            ]
          },
          "metadata": {
            "tags": []
          }
        }
      ]
    },
    {
      "cell_type": "code",
      "metadata": {
        "id": "6Zmmudacx26y",
        "colab_type": "code",
        "outputId": "3af31be4-25ea-4cef-df9f-0a66952d3f02",
        "colab": {
          "base_uri": "https://localhost:8080/",
          "height": 323
        }
      },
      "source": [
        "df.Sex[df.Survived==1].value_counts(normalize=True).plot(kind=\"bar\",alpha=0.5)\n",
        "plt.title(\"Sex of Survived\")"
      ],
      "execution_count": 67,
      "outputs": [
        {
          "output_type": "execute_result",
          "data": {
            "text/plain": [
              "Text(0.5, 1.0, 'Sex of Survived')"
            ]
          },
          "metadata": {
            "tags": []
          },
          "execution_count": 67
        },
        {
          "output_type": "display_data",
          "data": {
            "image/png": "[encoded data removed]",
            "text/plain": [
              "<Figure size 432x288 with 1 Axes>"
            ]
          },
          "metadata": {
            "tags": []
          }
        }
      ]
    },
    {
      "cell_type": "code",
      "metadata": {
        "id": "Nh5sIX56y0-y",
        "colab_type": "code",
        "outputId": "7d67fa3c-43cb-4486-dec5-16a4fcfb4d0a",
        "colab": {
          "base_uri": "https://localhost:8080/",
          "height": 298
        }
      },
      "source": [
        "for x in [1,2,3]:\n",
        "  df.Survived[df.Pclass==x].plot(kind=\"kde\")\n",
        "plt.title(\"Class wrt Survived\")\n",
        "plt.legend((\"1st\",\"2nd\",\"3rd\"))  "
      ],
      "execution_count": 68,
      "outputs": [
        {
          "output_type": "execute_result",
          "data": {
            "text/plain": [
              "<matplotlib.legend.Legend at 0x7f0c99d1ba90>"
            ]
          },
          "metadata": {
            "tags": []
          },
          "execution_count": 68
        },
        {
          "output_type": "display_data",
          "data": {
            "image/png": "[encoded data removed]",
            "text/plain": [
              "<Figure size 432x288 with 1 Axes>"
            ]
          },
          "metadata": {
            "tags": []
          }
        }
      ]
    },
    {
      "cell_type": "code",
      "metadata": {
        "id": "ekPPiHlFznYv",
        "colab_type": "code",
        "outputId": "f0eba4f8-2198-403a-e568-68888f9076b4",
        "colab": {
          "base_uri": "https://localhost:8080/",
          "height": 295
        }
      },
      "source": [
        "df.Survived[(df.Sex==\"male\") & (df.Pclass==1)].value_counts(normalize=True).plot(kind=\"bar\",alpha=0.5)\n",
        "plt.title(\"Rich Men Survived\")"
      ],
      "execution_count": 69,
      "outputs": [
        {
          "output_type": "execute_result",
          "data": {
            "text/plain": [
              "Text(0.5, 1.0, 'Rich Men Survived')"
            ]
          },
          "metadata": {
            "tags": []
          },
          "execution_count": 69
        },
        {
          "output_type": "display_data",
          "data": {
            "image/png": "[encoded data removed]",
            "text/plain": [
              "<Figure size 432x288 with 1 Axes>"
            ]
          },
          "metadata": {
            "tags": []
          }
        }
      ]
    },
    {
      "cell_type": "code",
      "metadata": {
        "id": "t2hI2cgu0M3D",
        "colab_type": "code",
        "outputId": "bb439da3-0cbc-4bdb-e7e2-5d4789356165",
        "colab": {
          "base_uri": "https://localhost:8080/",
          "height": 295
        }
      },
      "source": [
        "df.Survived[(df.Sex==\"male\") & (df.Pclass==2)].value_counts(normalize=True).plot(kind=\"bar\",alpha=0.5)\n",
        "plt.title(\"Poor Men Survived\")"
      ],
      "execution_count": 70,
      "outputs": [
        {
          "output_type": "execute_result",
          "data": {
            "text/plain": [
              "Text(0.5, 1.0, 'Poor Men Survived')"
            ]
          },
          "metadata": {
            "tags": []
          },
          "execution_count": 70
        },
        {
          "output_type": "display_data",
          "data": {
            "image/png": "[encoded data removed]",
            "text/plain": [
              "<Figure size 432x288 with 1 Axes>"
            ]
          },
          "metadata": {
            "tags": []
          }
        }
      ]
    },
    {
      "cell_type": "code",
      "metadata": {
        "id": "oI-YolBn0O6l",
        "colab_type": "code",
        "outputId": "16b61b55-bc14-4151-c066-89c96c3b1faf",
        "colab": {
          "base_uri": "https://localhost:8080/",
          "height": 295
        }
      },
      "source": [
        "df.Survived[(df.Sex==\"female\") & (df.Pclass==1)].value_counts(normalize=True).plot(kind=\"bar\",alpha=0.5)\n",
        "plt.title(\"Rich Women Survived\")"
      ],
      "execution_count": 71,
      "outputs": [
        {
          "output_type": "execute_result",
          "data": {
            "text/plain": [
              "Text(0.5, 1.0, 'Rich Women Survived')"
            ]
          },
          "metadata": {
            "tags": []
          },
          "execution_count": 71
        },
        {
          "output_type": "display_data",
          "data": {
            "image/png": "[encoded data removed]",
            "text/plain": [
              "<Figure size 432x288 with 1 Axes>"
            ]
          },
          "metadata": {
            "tags": []
          }
        }
      ]
    },
    {
      "cell_type": "code",
      "metadata": {
        "id": "FFkuJhvX0TsU",
        "colab_type": "code",
        "outputId": "3f8c4dd6-855a-4683-abba-0ca790bc13ba",
        "colab": {
          "base_uri": "https://localhost:8080/",
          "height": 295
        }
      },
      "source": [
        "df.Survived[(df.Sex==\"female\") & (df.Pclass==3)].value_counts(normalize=True).plot(kind=\"bar\",alpha=0.5)\n",
        "plt.title(\"Poor women Survived\")"
      ],
      "execution_count": 72,
      "outputs": [
        {
          "output_type": "execute_result",
          "data": {
            "text/plain": [
              "Text(0.5, 1.0, 'Poor women Survived')"
            ]
          },
          "metadata": {
            "tags": []
          },
          "execution_count": 72
        },
        {
          "output_type": "display_data",
          "data": {
            "image/png": "[encoded data removed]",
            "text/plain": [
              "<Figure size 432x288 with 1 Axes>"
            ]
          },
          "metadata": {
            "tags": []
          }
        }
      ]
    },
    {
      "cell_type": "markdown",
      "metadata": {
        "id": "GOIdPQjb1WbJ",
        "colab_type": "text"
      },
      "source": [
        "Clean Data"
      ]
    },
    {
      "cell_type": "code",
      "metadata": {
        "id": "eqV0J-Ox0ZTc",
        "colab_type": "code",
        "colab": {}
      },
      "source": [
        "df[\"Fare\"]=df[\"Fare\"].fillna(df[\"Fare\"].dropna().median())\n",
        "df[\"Age\"]=df[\"Age\"].fillna(df[\"Age\"].dropna().median())"
      ],
      "execution_count": 0,
      "outputs": []
    },
    {
      "cell_type": "code",
      "metadata": {
        "id": "lJGVtJYS1jjs",
        "colab_type": "code",
        "colab": {}
      },
      "source": [
        "df.loc[df[\"Sex\"]== \"male\", \"Sex\"]=0\n",
        "df.loc[df[\"Sex\"]== \"female\", \"Sex\"]=1"
      ],
      "execution_count": 0,
      "outputs": []
    },
    {
      "cell_type": "code",
      "metadata": {
        "id": "8kjAqaOu114y",
        "colab_type": "code",
        "colab": {}
      },
      "source": [
        "df[\"Embarked\"]=df[\"Embarked\"].fillna(\"S\")\n",
        "df.loc[df[\"Embarked\"]== \"S\", \"Embarked\"]=0\n",
        "df.loc[df[\"Embarked\"]== \"C\", \"Embarked\"]=1\n",
        "df.loc[df[\"Embarked\"]== \"Q\", \"Embarked\"]=2"
      ],
      "execution_count": 0,
      "outputs": []
    },
    {
      "cell_type": "code",
      "metadata": {
        "id": "tNqgdCJa4V2a",
        "colab_type": "code",
        "colab": {
          "base_uri": "https://localhost:8080/",
          "height": 87
        },
        "outputId": "27a17f6a-2902-4c3d-87ca-38cc9130197b"
      },
      "source": [
        "from sklearn import linear_model\n",
        "\n",
        "\n",
        "target=df[\"Survived\"].values\n",
        "feature=df[[\"Pclass\",\"Age\",\"Sex\",\"SibSp\",\"Parch\"]].values\n",
        "\n",
        "classifier=linear_model.LogisticRegression()\n",
        "classfier_=classifier.fit(feature,target)\n",
        "\n",
        "classfier_.score(feature,target)"
      ],
      "execution_count": 76,
      "outputs": [
        {
          "output_type": "stream",
          "text": [
            "/usr/local/lib/python3.6/dist-packages/sklearn/linear_model/logistic.py:432: FutureWarning: Default solver will be changed to 'lbfgs' in 0.22. Specify a solver to silence this warning.\n",
            "  FutureWarning)\n"
          ],
          "name": "stderr"
        },
        {
          "output_type": "execute_result",
          "data": {
            "text/plain": [
              "0.7934904601571269"
            ]
          },
          "metadata": {
            "tags": []
          },
          "execution_count": 76
        }
      ]
    },
    {
      "cell_type": "code",
      "metadata": {
        "id": "HF4XkHILdxI3",
        "colab_type": "code",
        "colab": {
          "base_uri": "https://localhost:8080/",
          "height": 87
        },
        "outputId": "f1893e18-09c2-4337-a3d1-80a86ebbe095"
      },
      "source": [
        "target=df[\"Survived\"].values\n",
        "feature=df[[\"Pclass\",\"Age\",\"Sex\",\"Embarked\",\"SibSp\",\"Parch\"]].values\n",
        "\n",
        "classifier=linear_model.LogisticRegression()\n",
        "classfier_=classifier.fit(feature,target)\n",
        "\n",
        "classfier_.score(feature,target)"
      ],
      "execution_count": 77,
      "outputs": [
        {
          "output_type": "stream",
          "text": [
            "/usr/local/lib/python3.6/dist-packages/sklearn/linear_model/logistic.py:432: FutureWarning: Default solver will be changed to 'lbfgs' in 0.22. Specify a solver to silence this warning.\n",
            "  FutureWarning)\n"
          ],
          "name": "stderr"
        },
        {
          "output_type": "execute_result",
          "data": {
            "text/plain": [
              "0.8002244668911336"
            ]
          },
          "metadata": {
            "tags": []
          },
          "execution_count": 77
        }
      ]
    },
    {
      "cell_type": "code",
      "metadata": {
        "id": "BRUFQv41ez8u",
        "colab_type": "code",
        "colab": {
          "base_uri": "https://localhost:8080/",
          "height": 87
        },
        "outputId": "427cfce9-24f9-4e87-93e4-da42560e5693"
      },
      "source": [
        "from sklearn.preprocessing import PolynomialFeatures\n",
        "\n",
        "poly=PolynomialFeatures(degree=2)\n",
        "poly_feature=poly.fit_transform(feature)\n",
        "##classifier=linear_model.LogisticRegression()\n",
        "classifier_=classifier.fit(poly_feature,target)\n",
        "classfier_.score(poly_feature,target)"
      ],
      "execution_count": 78,
      "outputs": [
        {
          "output_type": "stream",
          "text": [
            "/usr/local/lib/python3.6/dist-packages/sklearn/linear_model/logistic.py:432: FutureWarning: Default solver will be changed to 'lbfgs' in 0.22. Specify a solver to silence this warning.\n",
            "  FutureWarning)\n"
          ],
          "name": "stderr"
        },
        {
          "output_type": "execute_result",
          "data": {
            "text/plain": [
              "0.8361391694725028"
            ]
          },
          "metadata": {
            "tags": []
          },
          "execution_count": 78
        }
      ]
    },
    {
      "cell_type": "code",
      "metadata": {
        "id": "5_R6FqbEgQgq",
        "colab_type": "code",
        "colab": {
          "base_uri": "https://localhost:8080/",
          "height": 34
        },
        "outputId": "353cba68-c405-4400-89ed-347cbaf848b2"
      },
      "source": [
        "from sklearn import tree,model_selection\n",
        "\n",
        "\n",
        "decision_tree=tree.DecisionTreeClassifier(random_state=1)\n",
        "decision_tree_= decision_tree.fit(feature,target) \n",
        "\n",
        "decision_tree_.score(feature,target)"
      ],
      "execution_count": 79,
      "outputs": [
        {
          "output_type": "execute_result",
          "data": {
            "text/plain": [
              "0.936026936026936"
            ]
          },
          "metadata": {
            "tags": []
          },
          "execution_count": 79
        }
      ]
    },
    {
      "cell_type": "code",
      "metadata": {
        "id": "aQt1rUPKhfrZ",
        "colab_type": "code",
        "colab": {
          "base_uri": "https://localhost:8080/",
          "height": 34
        },
        "outputId": "f7a036ee-4f87-429a-f303-2951814be15f"
      },
      "source": [
        "from sklearn import model_selection\n",
        "feature=df[[\"Pclass\",\"Age\",\"Sex\",\"Embarked\",\"SibSp\",\"Parch\"]].values\n",
        "generalized_tree=tree.DecisionTreeClassifier(random_state=1,max_depth=7,min_samples_split=2)\n",
        "generalized_tree_=generalized_tree.fit(feature,target)\n",
        "generalized_tree_.score(feature,target)"
      ],
      "execution_count": 80,
      "outputs": [
        {
          "output_type": "execute_result",
          "data": {
            "text/plain": [
              "0.8664421997755332"
            ]
          },
          "metadata": {
            "tags": []
          },
          "execution_count": 80
        }
      ]
    },
    {
      "cell_type": "code",
      "metadata": {
        "id": "kbJglqf6j7C5",
        "colab_type": "code",
        "colab": {
          "base_uri": "https://localhost:8080/",
          "height": 34
        },
        "outputId": "5cd02e2d-7e68-4003-c190-c79a5728bcb8"
      },
      "source": [
        "score=model_selection.cross_val_score(generalized_tree,feature,target,scoring='accuracy',cv=50)\n",
        "score\n",
        "score.mean()"
      ],
      "execution_count": 81,
      "outputs": [
        {
          "output_type": "execute_result",
          "data": {
            "text/plain": [
              "0.8059313725490196"
            ]
          },
          "metadata": {
            "tags": []
          },
          "execution_count": 81
        }
      ]
    },
    {
      "cell_type": "code",
      "metadata": {
        "id": "aVP2WZW0kSej",
        "colab_type": "code",
        "colab": {}
      },
      "source": [
        "test_df=pd.read_csv(\"test.csv\")\n",
        "test_df[\"Fare\"]=test_df[\"Fare\"].fillna(test_df[\"Fare\"].dropna().median())\n",
        "test_df[\"Age\"]=test_df[\"Age\"].fillna(test_df[\"Age\"].dropna().median())\n",
        "test_df.loc[test_df[\"Sex\"]== \"male\", \"Sex\"]=0\n",
        "test_df.loc[test_df[\"Sex\"]== \"female\", \"Sex\"]=1\n",
        "\n",
        "test_df[\"Embarked\"]=test_df[\"Embarked\"].fillna(\"S\")\n",
        "test_df.loc[test_df[\"Embarked\"]== \"S\", \"Embarked\"]=0\n",
        "test_df.loc[test_df[\"Embarked\"]== \"C\", \"Embarked\"]=1\n",
        "test_df.loc[test_df[\"Embarked\"]== \"Q\", \"Embarked\"]=2\n",
        "\n",
        "\n",
        "features=test_df[[\"Pclass\",\"Age\",\"Sex\",\"Embarked\",\"SibSp\",\"Parch\"]].values\n",
        "Y_pred_RF = generalized_tree_.predict(features)"
      ],
      "execution_count": 0,
      "outputs": []
    },
    {
      "cell_type": "markdown",
      "metadata": {
        "id": "MbkAPeMOwLJh",
        "colab_type": "text"
      },
      "source": [
        "**NOTE TO SELF: File is in Drive folder not downlaoded by itself.**"
      ]
    },
    {
      "cell_type": "code",
      "metadata": {
        "id": "sImTYJaylcX9",
        "colab_type": "code",
        "colab": {}
      },
      "source": [
        "submission = pd.DataFrame({\n",
        "        \"PassengerId\": test_df[\"PassengerId\"],\n",
        "        \"Survived\": Y_pred_RF\n",
        "    })\n",
        "\n",
        "submission.to_csv('titanic_1.csv', index=False)"
      ],
      "execution_count": 0,
      "outputs": []
    }
  ]
}